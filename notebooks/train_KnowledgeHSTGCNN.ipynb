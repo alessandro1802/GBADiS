{
 "cells": [
  {
   "cell_type": "markdown",
   "id": "28b82778ad5f79c9",
   "metadata": {},
   "source": [
    "# Imports"
   ]
  },
  {
   "cell_type": "code",
   "execution_count": 1,
   "id": "a3158a626d27ac5e",
   "metadata": {
    "ExecuteTime": {
     "end_time": "2025-06-20T14:00:02.232291Z",
     "start_time": "2025-06-20T13:59:56.917508Z"
    }
   },
   "outputs": [
    {
     "data": {
      "text/plain": [
       "True"
      ]
     },
     "execution_count": 1,
     "metadata": {},
     "output_type": "execute_result"
    }
   ],
   "source": [
    "import os\n",
    "\n",
    "from dotenv import load_dotenv\n",
    "import torch\n",
    "from torch.utils.data import DataLoader\n",
    "import lightning as pl\n",
    "from lightning.pytorch.loggers import MLFlowLogger\n",
    "import mlflow.pytorch\n",
    "\n",
    "from src.datasets import SurveillanceAnomalyDataset, load_and_process_ontology\n",
    "from src.hstgcnn import KnowledgeHSTGCNN\n",
    "\n",
    "\n",
    "load_dotenv()"
   ]
  },
  {
   "cell_type": "markdown",
   "id": "69f13e4481c9c79f",
   "metadata": {},
   "source": [
    "# Data loaders"
   ]
  },
  {
   "cell_type": "code",
   "execution_count": 2,
   "id": "9b1781b362e2e43f",
   "metadata": {
    "ExecuteTime": {
     "end_time": "2025-06-20T14:00:02.294049Z",
     "start_time": "2025-06-20T14:00:02.256489Z"
    }
   },
   "outputs": [],
   "source": [
    "dataset_path = \"../data/processed/UCSD_Anomaly_Dataset.v1p2/UCSDped1/Train\"\n",
    "BATCH_SIZE = 32\n",
    "num_workers = 4\n",
    "\n",
    "# Create dataset and dataloaders\n",
    "dataset = SurveillanceAnomalyDataset(dataset_path)\n",
    "train_dataset, val_dataset = torch.utils.data.random_split(dataset, [0.8, 0.2])\n",
    "\n",
    "train_loader = DataLoader(\n",
    "    train_dataset,\n",
    "    batch_size=BATCH_SIZE,\n",
    "    shuffle=True,\n",
    "    num_workers=num_workers,\n",
    "    persistent_workers=True,\n",
    ")\n",
    "val_loader = DataLoader(\n",
    "    val_dataset,\n",
    "    batch_size=BATCH_SIZE,\n",
    "    shuffle=False,\n",
    "    num_workers=num_workers,\n",
    "    persistent_workers=True,\n",
    ")"
   ]
  },
  {
   "cell_type": "markdown",
   "id": "212670d65342fa37",
   "metadata": {},
   "source": [
    "# Training loop"
   ]
  },
  {
   "cell_type": "code",
   "execution_count": 3,
   "id": "c48d376bb912ef82",
   "metadata": {
    "ExecuteTime": {
     "end_time": "2025-06-20T14:00:02.364422Z",
     "start_time": "2025-06-20T14:00:02.361927Z"
    }
   },
   "outputs": [],
   "source": [
    "DEVICE = \"cuda\"\n",
    "EPOCHS = 20\n",
    "learning_rate = 1e-3\n",
    "\n",
    "experiment_name = \"HSTGCNN_UCSD_Ped1\"\n",
    "model_version = \"3.0.0\"\n",
    "run_name = f\"KnowledgeHSTGCNN@{model_version}\"\n",
    "\n",
    "ontology_path = \"../data/TrafficEnvironment.rdf\"\n",
    "sentence_transformer = \"all-MiniLM-L6-v2\"\n",
    "model_definition_path = \"../src/hstgcnn.py\""
   ]
  },
  {
   "cell_type": "code",
   "execution_count": 4,
   "id": "4de5126fcd1a70ea",
   "metadata": {
    "ExecuteTime": {
     "end_time": "2025-06-20T14:04:53.642946Z",
     "start_time": "2025-06-20T14:00:02.383209Z"
    }
   },
   "outputs": [
    {
     "name": "stdout",
     "output_type": "stream",
     "text": [
      "INFO:pytorch_lightning.utilities.rank_zero:GPU available: True (cuda), used: True\n",
      "INFO:pytorch_lightning.utilities.rank_zero:TPU available: False, using: 0 TPU cores\n",
      "INFO:pytorch_lightning.utilities.rank_zero:HPU available: False, using: 0 HPUs\n",
      "LOCAL_RANK: 0 - CUDA_VISIBLE_DEVICES: [0]\n",
      "\n",
      "  | Name              | Type                   | Params | Mode \n",
      "---------------------------------------------------------------------\n",
      "0 | high_level_stgcnn | STGCNN                 | 97     | train\n",
      "1 | low_level_stgcnn  | STGCNN                 | 193    | train\n",
      "2 | feature_fusion    | KnowledgeFeatureFusion | 37.2 K | train\n",
      "3 | ffp               | FFP                    | 199 K  | train\n",
      "4 | oa                | OA                     | 3      | train\n",
      "5 | loss_fn           | MSELoss                | 0      | train\n",
      "---------------------------------------------------------------------\n",
      "237 K     Trainable params\n",
      "0         Non-trainable params\n",
      "237 K     Total params\n",
      "0.949     Total estimated model params size (MB)\n",
      "40        Modules in train mode\n",
      "0         Modules in eval mode\n"
     ]
    },
    {
     "data": {
      "application/vnd.jupyter.widget-view+json": {
       "model_id": "9e35ea56734b405fa8143c25af75ffb9",
       "version_major": 2,
       "version_minor": 0
      },
      "text/plain": [
       "Sanity Checking: |                                                   | 0/? [00:00<?, ?it/s]"
      ]
     },
     "metadata": {},
     "output_type": "display_data"
    },
    {
     "data": {
      "application/vnd.jupyter.widget-view+json": {
       "model_id": "29de7ee891594385b5e627b337bb26f9",
       "version_major": 2,
       "version_minor": 0
      },
      "text/plain": [
       "Training: |                                                          | 0/? [00:00<?, ?it/s]"
      ]
     },
     "metadata": {},
     "output_type": "display_data"
    },
    {
     "data": {
      "application/vnd.jupyter.widget-view+json": {
       "model_id": "64597ed24c354bd8b91c4bd0e868cc8c",
       "version_major": 2,
       "version_minor": 0
      },
      "text/plain": [
       "Validation: |                                                        | 0/? [00:00<?, ?it/s]"
      ]
     },
     "metadata": {},
     "output_type": "display_data"
    },
    {
     "data": {
      "application/vnd.jupyter.widget-view+json": {
       "model_id": "b6192640b29e4e45a0fff9cf77f81bd3",
       "version_major": 2,
       "version_minor": 0
      },
      "text/plain": [
       "Validation: |                                                        | 0/? [00:00<?, ?it/s]"
      ]
     },
     "metadata": {},
     "output_type": "display_data"
    },
    {
     "data": {
      "application/vnd.jupyter.widget-view+json": {
       "model_id": "060ea13103494a9a9adcb601fb06c1d4",
       "version_major": 2,
       "version_minor": 0
      },
      "text/plain": [
       "Validation: |                                                        | 0/? [00:00<?, ?it/s]"
      ]
     },
     "metadata": {},
     "output_type": "display_data"
    },
    {
     "data": {
      "application/vnd.jupyter.widget-view+json": {
       "model_id": "410287fad84044b998d15a34f574f9f6",
       "version_major": 2,
       "version_minor": 0
      },
      "text/plain": [
       "Validation: |                                                        | 0/? [00:00<?, ?it/s]"
      ]
     },
     "metadata": {},
     "output_type": "display_data"
    },
    {
     "data": {
      "application/vnd.jupyter.widget-view+json": {
       "model_id": "8be12c6e1c934260bac31199002e10e3",
       "version_major": 2,
       "version_minor": 0
      },
      "text/plain": [
       "Validation: |                                                        | 0/? [00:00<?, ?it/s]"
      ]
     },
     "metadata": {},
     "output_type": "display_data"
    },
    {
     "data": {
      "application/vnd.jupyter.widget-view+json": {
       "model_id": "5d130d5ace6b40e2976df2c2e3d5e50d",
       "version_major": 2,
       "version_minor": 0
      },
      "text/plain": [
       "Validation: |                                                        | 0/? [00:00<?, ?it/s]"
      ]
     },
     "metadata": {},
     "output_type": "display_data"
    },
    {
     "data": {
      "application/vnd.jupyter.widget-view+json": {
       "model_id": "1548989a56e244cfa5c2a2e93d769d0a",
       "version_major": 2,
       "version_minor": 0
      },
      "text/plain": [
       "Validation: |                                                        | 0/? [00:00<?, ?it/s]"
      ]
     },
     "metadata": {},
     "output_type": "display_data"
    },
    {
     "data": {
      "application/vnd.jupyter.widget-view+json": {
       "model_id": "82d26533520f4831b1ad25a1cad68a7f",
       "version_major": 2,
       "version_minor": 0
      },
      "text/plain": [
       "Validation: |                                                        | 0/? [00:00<?, ?it/s]"
      ]
     },
     "metadata": {},
     "output_type": "display_data"
    },
    {
     "data": {
      "application/vnd.jupyter.widget-view+json": {
       "model_id": "a36bc650f29349ebbb8d8765d487a85d",
       "version_major": 2,
       "version_minor": 0
      },
      "text/plain": [
       "Validation: |                                                        | 0/? [00:00<?, ?it/s]"
      ]
     },
     "metadata": {},
     "output_type": "display_data"
    },
    {
     "data": {
      "application/vnd.jupyter.widget-view+json": {
       "model_id": "c0b2e9d29a9f4c83845bfd33f88db88d",
       "version_major": 2,
       "version_minor": 0
      },
      "text/plain": [
       "Validation: |                                                        | 0/? [00:00<?, ?it/s]"
      ]
     },
     "metadata": {},
     "output_type": "display_data"
    },
    {
     "data": {
      "application/vnd.jupyter.widget-view+json": {
       "model_id": "3d71b64eca2c4f38b8e36fb97132bdf6",
       "version_major": 2,
       "version_minor": 0
      },
      "text/plain": [
       "Validation: |                                                        | 0/? [00:00<?, ?it/s]"
      ]
     },
     "metadata": {},
     "output_type": "display_data"
    },
    {
     "data": {
      "application/vnd.jupyter.widget-view+json": {
       "model_id": "3a036663a11845a695a3445cc775c315",
       "version_major": 2,
       "version_minor": 0
      },
      "text/plain": [
       "Validation: |                                                        | 0/? [00:00<?, ?it/s]"
      ]
     },
     "metadata": {},
     "output_type": "display_data"
    },
    {
     "data": {
      "application/vnd.jupyter.widget-view+json": {
       "model_id": "2c5f7cbe23764869abe21ed672a9db28",
       "version_major": 2,
       "version_minor": 0
      },
      "text/plain": [
       "Validation: |                                                        | 0/? [00:00<?, ?it/s]"
      ]
     },
     "metadata": {},
     "output_type": "display_data"
    },
    {
     "data": {
      "application/vnd.jupyter.widget-view+json": {
       "model_id": "bdb7dee810684c4b831ab451282bf4a3",
       "version_major": 2,
       "version_minor": 0
      },
      "text/plain": [
       "Validation: |                                                        | 0/? [00:00<?, ?it/s]"
      ]
     },
     "metadata": {},
     "output_type": "display_data"
    },
    {
     "data": {
      "application/vnd.jupyter.widget-view+json": {
       "model_id": "fe5170804b354ceebe7cf1c532ecadf8",
       "version_major": 2,
       "version_minor": 0
      },
      "text/plain": [
       "Validation: |                                                        | 0/? [00:00<?, ?it/s]"
      ]
     },
     "metadata": {},
     "output_type": "display_data"
    },
    {
     "data": {
      "application/vnd.jupyter.widget-view+json": {
       "model_id": "3fc824aa2ed945869852866f9bb34817",
       "version_major": 2,
       "version_minor": 0
      },
      "text/plain": [
       "Validation: |                                                        | 0/? [00:00<?, ?it/s]"
      ]
     },
     "metadata": {},
     "output_type": "display_data"
    },
    {
     "data": {
      "application/vnd.jupyter.widget-view+json": {
       "model_id": "b1f38e5268144c34970768e1d7800478",
       "version_major": 2,
       "version_minor": 0
      },
      "text/plain": [
       "Validation: |                                                        | 0/? [00:00<?, ?it/s]"
      ]
     },
     "metadata": {},
     "output_type": "display_data"
    },
    {
     "data": {
      "application/vnd.jupyter.widget-view+json": {
       "model_id": "3a19fdded9be41e39a2167b85c9f3757",
       "version_major": 2,
       "version_minor": 0
      },
      "text/plain": [
       "Validation: |                                                        | 0/? [00:00<?, ?it/s]"
      ]
     },
     "metadata": {},
     "output_type": "display_data"
    },
    {
     "data": {
      "application/vnd.jupyter.widget-view+json": {
       "model_id": "d68755ec28054592a579720a258b1179",
       "version_major": 2,
       "version_minor": 0
      },
      "text/plain": [
       "Validation: |                                                        | 0/? [00:00<?, ?it/s]"
      ]
     },
     "metadata": {},
     "output_type": "display_data"
    },
    {
     "data": {
      "application/vnd.jupyter.widget-view+json": {
       "model_id": "58ddd389fe0d49df97f0d65795159704",
       "version_major": 2,
       "version_minor": 0
      },
      "text/plain": [
       "Validation: |                                                        | 0/? [00:00<?, ?it/s]"
      ]
     },
     "metadata": {},
     "output_type": "display_data"
    },
    {
     "name": "stderr",
     "output_type": "stream",
     "text": [
      "INFO:pytorch_lightning.utilities.rank_zero:`Trainer.fit` stopped: `max_epochs=20` reached.\n"
     ]
    }
   ],
   "source": [
    "mlflow.set_experiment(experiment_name)\n",
    "mlf_logger = MLFlowLogger(\n",
    "    tracking_uri=os.getenv(\"MLFLOW_TRACKING_URI\"),\n",
    "    experiment_name=experiment_name,\n",
    "    run_name=run_name,\n",
    "    log_model=False,\n",
    ")\n",
    "# Initialize trainer\n",
    "trainer = pl.Trainer(\n",
    "    max_epochs=EPOCHS,\n",
    "    accelerator=DEVICE,\n",
    "    log_every_n_steps=1,\n",
    "    logger=mlf_logger,\n",
    "    callbacks=[\n",
    "        pl.pytorch.callbacks.EarlyStopping(monitor='val_loss', patience=3, mode='min'),\n",
    "        pl.pytorch.callbacks.ModelCheckpoint(dirpath='../checkpoints/UCSD_Ped1/',\n",
    "                                             filename='KnowledgeHSTGCNN_v' + ''.join(model_version.split('.')) + '-epoch_{epoch:02d}',\n",
    "                                             monitor='val_loss', mode='min', save_top_k=1,\n",
    "                                             save_last=False, auto_insert_metric_name=False),\n",
    "    ],\n",
    ")\n",
    "pyg_data = load_and_process_ontology(ontology_path, sentence_transformer, device=DEVICE)\n",
    "model = KnowledgeHSTGCNN(pyg_data, oa_weights=[0.2, 0.5, 0.3], lr=learning_rate).to(DEVICE)\n",
    "# Log hyperparameters to MLflow\n",
    "mlf_logger.log_hyperparams({\n",
    "    'model_name': model.__class__.__name__,\n",
    "    'learning_rate': learning_rate,\n",
    "    'batch_size': BATCH_SIZE,\n",
    "    'max_epochs': EPOCHS,\n",
    "    'ontology': ontology_path.split('/')[-1].split('.')[0],\n",
    "    'sentence_transformer': sentence_transformer,\n",
    "})\n",
    "# Train the model\n",
    "trainer.fit(model, train_dataloaders=train_loader, val_dataloaders=val_loader)\n",
    "# Log artifacts\n",
    "best_model_path = trainer.checkpoint_callback.best_model_path\n",
    "if best_model_path:\n",
    "    mlf_logger.experiment.log_artifact(mlf_logger.run_id, best_model_path, \"models\")\n",
    "    mlf_logger.experiment.log_artifact(mlf_logger.run_id, model_definition_path, \"models\")"
   ]
  }
 ],
 "metadata": {
  "kernelspec": {
   "display_name": "Python 3 (ipykernel)",
   "language": "python",
   "name": "python3"
  },
  "language_info": {
   "codemirror_mode": {
    "name": "ipython",
    "version": 3
   },
   "file_extension": ".py",
   "mimetype": "text/x-python",
   "name": "python",
   "nbconvert_exporter": "python",
   "pygments_lexer": "ipython3",
   "version": "3.11.10"
  }
 },
 "nbformat": 4,
 "nbformat_minor": 5
}
