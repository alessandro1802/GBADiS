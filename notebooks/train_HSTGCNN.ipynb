{
 "cells": [
  {
   "cell_type": "markdown",
   "id": "28b82778ad5f79c9",
   "metadata": {},
   "source": [
    "# Imports"
   ]
  },
  {
   "cell_type": "code",
   "execution_count": 2,
   "id": "a3158a626d27ac5e",
   "metadata": {},
   "outputs": [
    {
     "data": {
      "text/plain": [
       "True"
      ]
     },
     "execution_count": 2,
     "metadata": {},
     "output_type": "execute_result"
    }
   ],
   "source": [
    "import os\n",
    "\n",
    "from dotenv import load_dotenv\n",
    "import torch\n",
    "from torch.utils.data import DataLoader\n",
    "import lightning as pl\n",
    "from lightning.pytorch.loggers import MLFlowLogger\n",
    "import mlflow.pytorch\n",
    "\n",
    "from src.datasets import SurveillanceAnomalyDataset\n",
    "from src.hstgcnn import HSTGCNN\n",
    "\n",
    "\n",
    "load_dotenv()"
   ]
  },
  {
   "cell_type": "markdown",
   "id": "69f13e4481c9c79f",
   "metadata": {},
   "source": [
    "# Data loaders"
   ]
  },
  {
   "cell_type": "code",
   "execution_count": 3,
   "id": "29d6b279e6804bc3",
   "metadata": {},
   "outputs": [],
   "source": [
    "dataset_path = \"../data/processed/UCSD_Anomaly_Dataset.v1p2/UCSDped2/Train\"\n",
    "BATCH_SIZE = 64\n",
    "num_workers = 4\n",
    "\n",
    "# Create dataset and dataloaders\n",
    "dataset = SurveillanceAnomalyDataset(dataset_path)\n",
    "train_dataset, val_dataset = torch.utils.data.random_split(dataset, [0.8, 0.2])\n",
    "\n",
    "train_loader = DataLoader(\n",
    "    train_dataset,\n",
    "    batch_size=BATCH_SIZE,\n",
    "    shuffle=True,\n",
    "    num_workers=num_workers,\n",
    "    persistent_workers=True,\n",
    ")\n",
    "val_loader = DataLoader(\n",
    "    val_dataset,\n",
    "    batch_size=BATCH_SIZE,\n",
    "    shuffle=False,\n",
    "    num_workers=num_workers,\n",
    "    persistent_workers=True,\n",
    ")"
   ]
  },
  {
   "cell_type": "markdown",
   "id": "212670d65342fa37",
   "metadata": {},
   "source": [
    "# Training loop"
   ]
  },
  {
   "cell_type": "code",
   "execution_count": 4,
   "id": "8e7a0320dce5c14f",
   "metadata": {},
   "outputs": [],
   "source": [
    "DEVICE = \"cuda\"\n",
    "EPOCHS = 20\n",
    "learning_rate = 1e-3\n",
    "\n",
    "experiment_name = \"HSTGCNN_UCSD_Ped2\"\n",
    "model_version = \"2.5.0\"\n",
    "run_name = f\"HSTGCNN@{model_version}\"\n",
    "\n",
    "model_definition_path = \"../src/hstgcnn.py\""
   ]
  },
  {
   "cell_type": "code",
   "execution_count": 5,
   "id": "4ff7d5d2cdc13dd2",
   "metadata": {},
   "outputs": [
    {
     "name": "stderr",
     "output_type": "stream",
     "text": [
      "2025/06/23 23:58:30 INFO mlflow.tracking.fluent: Experiment with name 'HSTGCNN_UCSD_Ped2' does not exist. Creating a new experiment.\n",
      "INFO:pytorch_lightning.utilities.rank_zero:GPU available: True (cuda), used: True\n",
      "INFO:pytorch_lightning.utilities.rank_zero:TPU available: False, using: 0 TPU cores\n",
      "INFO:pytorch_lightning.utilities.rank_zero:HPU available: False, using: 0 HPUs\n",
      "LOCAL_RANK: 0 - CUDA_VISIBLE_DEVICES: [0]\n",
      "\n",
      "  | Name              | Type          | Params | Mode \n",
      "------------------------------------------------------------\n",
      "0 | high_level_stgcnn | STGCNN        | 97     | train\n",
      "1 | low_level_stgcnn  | STGCNN        | 193    | train\n",
      "2 | feature_fusion    | FeatureFusion | 12.4 K | train\n",
      "3 | ffp               | FFP           | 199 K  | train\n",
      "4 | oa                | OA            | 3      | train\n",
      "5 | loss_fn           | MSELoss       | 0      | train\n",
      "------------------------------------------------------------\n",
      "212 K     Trainable params\n",
      "0         Non-trainable params\n",
      "212 K     Total params\n",
      "0.850     Total estimated model params size (MB)\n",
      "30        Modules in train mode\n",
      "0         Modules in eval mode\n"
     ]
    },
    {
     "data": {
      "application/vnd.jupyter.widget-view+json": {
       "model_id": "76c23727aebd491388cf72e9c3145a45",
       "version_major": 2,
       "version_minor": 0
      },
      "text/plain": [
       "Sanity Checking: |                                                   | 0/? [00:00<?, ?it/s]"
      ]
     },
     "metadata": {},
     "output_type": "display_data"
    },
    {
     "data": {
      "application/vnd.jupyter.widget-view+json": {
       "model_id": "49b6bfc5ed4a48d184bc92cca7bc8238",
       "version_major": 2,
       "version_minor": 0
      },
      "text/plain": [
       "Training: |                                                          | 0/? [00:00<?, ?it/s]"
      ]
     },
     "metadata": {},
     "output_type": "display_data"
    },
    {
     "data": {
      "application/vnd.jupyter.widget-view+json": {
       "model_id": "1d64cb5e3ff843ab8add2998b58a1996",
       "version_major": 2,
       "version_minor": 0
      },
      "text/plain": [
       "Validation: |                                                        | 0/? [00:00<?, ?it/s]"
      ]
     },
     "metadata": {},
     "output_type": "display_data"
    },
    {
     "data": {
      "application/vnd.jupyter.widget-view+json": {
       "model_id": "3ed76d1faed84ae19240d48bba7a44c8",
       "version_major": 2,
       "version_minor": 0
      },
      "text/plain": [
       "Validation: |                                                        | 0/? [00:00<?, ?it/s]"
      ]
     },
     "metadata": {},
     "output_type": "display_data"
    },
    {
     "data": {
      "application/vnd.jupyter.widget-view+json": {
       "model_id": "1e8e09920035437b894ead37bdc98202",
       "version_major": 2,
       "version_minor": 0
      },
      "text/plain": [
       "Validation: |                                                        | 0/? [00:00<?, ?it/s]"
      ]
     },
     "metadata": {},
     "output_type": "display_data"
    },
    {
     "data": {
      "application/vnd.jupyter.widget-view+json": {
       "model_id": "088c03ce85804ca4bb448419f0941628",
       "version_major": 2,
       "version_minor": 0
      },
      "text/plain": [
       "Validation: |                                                        | 0/? [00:00<?, ?it/s]"
      ]
     },
     "metadata": {},
     "output_type": "display_data"
    },
    {
     "data": {
      "application/vnd.jupyter.widget-view+json": {
       "model_id": "810647f161964af888182464dd9f8a79",
       "version_major": 2,
       "version_minor": 0
      },
      "text/plain": [
       "Validation: |                                                        | 0/? [00:00<?, ?it/s]"
      ]
     },
     "metadata": {},
     "output_type": "display_data"
    },
    {
     "data": {
      "application/vnd.jupyter.widget-view+json": {
       "model_id": "6144dcebd50446b69782d82250f3dbb8",
       "version_major": 2,
       "version_minor": 0
      },
      "text/plain": [
       "Validation: |                                                        | 0/? [00:00<?, ?it/s]"
      ]
     },
     "metadata": {},
     "output_type": "display_data"
    },
    {
     "data": {
      "application/vnd.jupyter.widget-view+json": {
       "model_id": "934f749956e647409d07ad170f0ff608",
       "version_major": 2,
       "version_minor": 0
      },
      "text/plain": [
       "Validation: |                                                        | 0/? [00:00<?, ?it/s]"
      ]
     },
     "metadata": {},
     "output_type": "display_data"
    },
    {
     "data": {
      "application/vnd.jupyter.widget-view+json": {
       "model_id": "b16ded5a612a4ea487904c91b9325850",
       "version_major": 2,
       "version_minor": 0
      },
      "text/plain": [
       "Validation: |                                                        | 0/? [00:00<?, ?it/s]"
      ]
     },
     "metadata": {},
     "output_type": "display_data"
    },
    {
     "data": {
      "application/vnd.jupyter.widget-view+json": {
       "model_id": "b182faf1aa38417e8c6240e586eca8a1",
       "version_major": 2,
       "version_minor": 0
      },
      "text/plain": [
       "Validation: |                                                        | 0/? [00:00<?, ?it/s]"
      ]
     },
     "metadata": {},
     "output_type": "display_data"
    },
    {
     "data": {
      "application/vnd.jupyter.widget-view+json": {
       "model_id": "fa4bf7bafac74d2ab55bc724be3e86b5",
       "version_major": 2,
       "version_minor": 0
      },
      "text/plain": [
       "Validation: |                                                        | 0/? [00:00<?, ?it/s]"
      ]
     },
     "metadata": {},
     "output_type": "display_data"
    },
    {
     "data": {
      "application/vnd.jupyter.widget-view+json": {
       "model_id": "05007ccc747a4eba8d39de2b40dc59a4",
       "version_major": 2,
       "version_minor": 0
      },
      "text/plain": [
       "Validation: |                                                        | 0/? [00:00<?, ?it/s]"
      ]
     },
     "metadata": {},
     "output_type": "display_data"
    },
    {
     "data": {
      "application/vnd.jupyter.widget-view+json": {
       "model_id": "c66c952527674364af72da96421457e8",
       "version_major": 2,
       "version_minor": 0
      },
      "text/plain": [
       "Validation: |                                                        | 0/? [00:00<?, ?it/s]"
      ]
     },
     "metadata": {},
     "output_type": "display_data"
    },
    {
     "data": {
      "application/vnd.jupyter.widget-view+json": {
       "model_id": "dd72d3e5766d4db7b92acfa725856b83",
       "version_major": 2,
       "version_minor": 0
      },
      "text/plain": [
       "Validation: |                                                        | 0/? [00:00<?, ?it/s]"
      ]
     },
     "metadata": {},
     "output_type": "display_data"
    },
    {
     "data": {
      "application/vnd.jupyter.widget-view+json": {
       "model_id": "2e355b57aec84465a2c49defc05cf6e2",
       "version_major": 2,
       "version_minor": 0
      },
      "text/plain": [
       "Validation: |                                                        | 0/? [00:00<?, ?it/s]"
      ]
     },
     "metadata": {},
     "output_type": "display_data"
    },
    {
     "data": {
      "application/vnd.jupyter.widget-view+json": {
       "model_id": "592a6b5685bd4058829d8e1005493088",
       "version_major": 2,
       "version_minor": 0
      },
      "text/plain": [
       "Validation: |                                                        | 0/? [00:00<?, ?it/s]"
      ]
     },
     "metadata": {},
     "output_type": "display_data"
    },
    {
     "data": {
      "application/vnd.jupyter.widget-view+json": {
       "model_id": "f6b8567a50a0436c89c1c30b6e7b98e3",
       "version_major": 2,
       "version_minor": 0
      },
      "text/plain": [
       "Validation: |                                                        | 0/? [00:00<?, ?it/s]"
      ]
     },
     "metadata": {},
     "output_type": "display_data"
    },
    {
     "data": {
      "application/vnd.jupyter.widget-view+json": {
       "model_id": "04b64a73ede448b3875d0c21f45b6906",
       "version_major": 2,
       "version_minor": 0
      },
      "text/plain": [
       "Validation: |                                                        | 0/? [00:00<?, ?it/s]"
      ]
     },
     "metadata": {},
     "output_type": "display_data"
    },
    {
     "data": {
      "application/vnd.jupyter.widget-view+json": {
       "model_id": "764294af8ed147eaa384cf4ac6eff08b",
       "version_major": 2,
       "version_minor": 0
      },
      "text/plain": [
       "Validation: |                                                        | 0/? [00:00<?, ?it/s]"
      ]
     },
     "metadata": {},
     "output_type": "display_data"
    },
    {
     "data": {
      "application/vnd.jupyter.widget-view+json": {
       "model_id": "7a89d44f0c154c96bd014eb277fa3565",
       "version_major": 2,
       "version_minor": 0
      },
      "text/plain": [
       "Validation: |                                                        | 0/? [00:00<?, ?it/s]"
      ]
     },
     "metadata": {},
     "output_type": "display_data"
    },
    {
     "data": {
      "application/vnd.jupyter.widget-view+json": {
       "model_id": "f9ac8cfa14fd40d7ac9ba6f78de2f87c",
       "version_major": 2,
       "version_minor": 0
      },
      "text/plain": [
       "Validation: |                                                        | 0/? [00:00<?, ?it/s]"
      ]
     },
     "metadata": {},
     "output_type": "display_data"
    },
    {
     "name": "stderr",
     "output_type": "stream",
     "text": [
      "INFO:pytorch_lightning.utilities.rank_zero:`Trainer.fit` stopped: `max_epochs=20` reached.\n"
     ]
    }
   ],
   "source": [
    "mlflow.set_experiment(experiment_name)\n",
    "mlf_logger = MLFlowLogger(\n",
    "    tracking_uri=os.getenv(\"MLFLOW_TRACKING_URI\"),\n",
    "    experiment_name=experiment_name,\n",
    "    run_name=run_name,\n",
    "    log_model=False,\n",
    ")\n",
    "# Initialize trainer\n",
    "trainer = pl.Trainer(\n",
    "    max_epochs=EPOCHS,\n",
    "    accelerator=DEVICE,\n",
    "    log_every_n_steps=1,\n",
    "    logger=mlf_logger,\n",
    "    callbacks=[\n",
    "        pl.pytorch.callbacks.EarlyStopping(monitor='val_loss', patience=3, mode='min'),\n",
    "        pl.pytorch.callbacks.ModelCheckpoint(dirpath='../checkpoints/UCSD_Ped2/',\n",
    "                                             filename='HSTGCNN_v' + ''.join(model_version.split('.')) + '-epoch_{epoch:02d}',\n",
    "                                             monitor='val_loss', mode='min', save_top_k=1,\n",
    "                                             save_last=False, auto_insert_metric_name=False),\n",
    "    ],\n",
    ")\n",
    "\n",
    "model = HSTGCNN(oa_weights=[0.05, 0.7, 0.25], lr=learning_rate).to(DEVICE)\n",
    "\n",
    "# Log hyperparameters to MLflow\n",
    "mlf_logger.log_hyperparams({\n",
    "    'model_name': model.__class__.__name__,\n",
    "    'learning_rate': learning_rate,\n",
    "    'batch_size': BATCH_SIZE,\n",
    "    'max_epochs': EPOCHS,\n",
    "})\n",
    "# Train the model\n",
    "trainer.fit(model, train_dataloaders=train_loader, val_dataloaders=val_loader)\n",
    "# Log artifacts\n",
    "best_model_path = trainer.checkpoint_callback.best_model_path\n",
    "if best_model_path:\n",
    "    mlf_logger.experiment.log_artifact(mlf_logger.run_id, best_model_path, \"models\")\n",
    "    mlf_logger.experiment.log_artifact(mlf_logger.run_id, model_definition_path, \"models\")"
   ]
  }
 ],
 "metadata": {
  "kernelspec": {
   "display_name": "Python 3 (ipykernel)",
   "language": "python",
   "name": "python3"
  },
  "language_info": {
   "codemirror_mode": {
    "name": "ipython",
    "version": 3
   },
   "file_extension": ".py",
   "mimetype": "text/x-python",
   "name": "python",
   "nbconvert_exporter": "python",
   "pygments_lexer": "ipython3",
   "version": "3.11.10"
  }
 },
 "nbformat": 4,
 "nbformat_minor": 5
}
