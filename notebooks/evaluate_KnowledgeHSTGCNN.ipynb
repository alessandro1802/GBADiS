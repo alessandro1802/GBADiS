{
 "cells": [
  {
   "cell_type": "markdown",
   "id": "c88326f314eb3ce7",
   "metadata": {},
   "source": [
    "# Imports"
   ]
  },
  {
   "cell_type": "code",
   "id": "initial_id",
   "metadata": {
    "ExecuteTime": {
     "end_time": "2025-06-24T17:08:41.010010Z",
     "start_time": "2025-06-24T17:08:35.773789Z"
    }
   },
   "source": [
    "import os\n",
    "\n",
    "import numpy as np\n",
    "from tqdm.notebook import tqdm\n",
    "import torch\n",
    "from torch.utils.data import DataLoader\n",
    "from scipy.signal import savgol_filter\n",
    "import mlflow\n",
    "from mlflow.tracking import MlflowClient\n",
    "from dotenv import load_dotenv\n",
    "\n",
    "from src.datasets import SurveillanceAnomalyDataset, load_UCSD_labels\n",
    "from src.hstgcnn import KnowledgeHSTGCNN\n",
    "from src.datasets import normalize_scores, reduce_to_regions\n",
    "from visualize import plot_anomaly_scores, plot_roc_curve\n",
    "\n",
    "\n",
    "load_dotenv()"
   ],
   "outputs": [
    {
     "data": {
      "text/plain": [
       "True"
      ]
     },
     "execution_count": 1,
     "metadata": {},
     "output_type": "execute_result"
    }
   ],
   "execution_count": 1
  },
  {
   "cell_type": "markdown",
   "id": "4d450aa7ca468307",
   "metadata": {},
   "source": [
    "# Load data"
   ]
  },
  {
   "cell_type": "code",
   "id": "eb472b91aff56a7a",
   "metadata": {
    "ExecuteTime": {
     "end_time": "2025-06-24T17:08:41.042861Z",
     "start_time": "2025-06-24T17:08:41.040026Z"
    }
   },
   "source": [
    "data_path = \"../data\"\n",
    "test_set_base = \"UCSD_Anomaly_Dataset.v1p2/UCSDped2/Test/\"\n",
    "gt_filename = \"UCSDped2.m\""
   ],
   "outputs": [],
   "execution_count": 2
  },
  {
   "cell_type": "markdown",
   "id": "d904708b1f0c870d",
   "metadata": {},
   "source": [
    "## Load labels"
   ]
  },
  {
   "cell_type": "code",
   "id": "a9889e752022d36e",
   "metadata": {
    "ExecuteTime": {
     "end_time": "2025-06-24T17:08:41.055033Z",
     "start_time": "2025-06-24T17:08:41.049445Z"
    }
   },
   "source": [
    "gt_path = os.path.join(data_path, test_set_base, gt_filename)\n",
    "video_lens = [180, 180, 150, 180, 150, 180, 180, 180, 120, 150, 180, 180]\n",
    "labels = load_UCSD_labels(gt_path, video_lens)  # [n_videos, video_len]"
   ],
   "outputs": [],
   "execution_count": 3
  },
  {
   "cell_type": "markdown",
   "id": "b557c46d280a0453",
   "metadata": {},
   "source": [
    "## Load test set"
   ]
  },
  {
   "cell_type": "code",
   "id": "94c5b7825a4bbe84",
   "metadata": {
    "ExecuteTime": {
     "end_time": "2025-06-24T17:08:41.785109Z",
     "start_time": "2025-06-24T17:08:41.120925Z"
    }
   },
   "source": [
    "dataset_path = os.path.join(data_path, \"processed\", test_set_base)\n",
    "BATCH_SIZE = 32\n",
    "num_workers = 4\n",
    "\n",
    "test_set = SurveillanceAnomalyDataset(dataset_path)\n",
    "test_set = DataLoader(\n",
    "    test_set,\n",
    "    batch_size=BATCH_SIZE,\n",
    "    shuffle=False,\n",
    "    num_workers=num_workers,\n",
    "    persistent_workers=True,\n",
    ")"
   ],
   "outputs": [],
   "execution_count": 4
  },
  {
   "cell_type": "markdown",
   "id": "7eafc23bf88b04f5",
   "metadata": {},
   "source": [
    "# Evaluate"
   ]
  },
  {
   "cell_type": "markdown",
   "id": "d889aea6aed8291b",
   "metadata": {},
   "source": [
    "## Make predictions"
   ]
  },
  {
   "cell_type": "code",
   "id": "25efb6c1c9877311",
   "metadata": {
    "collapsed": true,
    "jupyter": {
     "outputs_hidden": true
    },
    "scrolled": true,
    "ExecuteTime": {
     "end_time": "2025-06-24T17:08:41.952703Z",
     "start_time": "2025-06-24T17:08:41.796774Z"
    }
   },
   "source": [
    "checkpoint_path = \"../checkpoints/UCSD_Ped2/KnowledgeHSTGCNN_v350-epoch_16.ckpt\"\n",
    "DEVICE = \"mps\"\n",
    "\n",
    "model = KnowledgeHSTGCNN.load_from_checkpoint(checkpoint_path)\n",
    "model.to(DEVICE)\n",
    "model.eval()"
   ],
   "outputs": [
    {
     "data": {
      "text/plain": [
       "KnowledgeHSTGCNN(\n",
       "  (high_level_stgcnn): STGCNN(\n",
       "    (gcn): GCNConv(2, 32)\n",
       "    (activation): PReLU(num_parameters=1)\n",
       "  )\n",
       "  (low_level_stgcnn): STGCNN(\n",
       "    (gcn): GCNConv(2, 64)\n",
       "    (activation): PReLU(num_parameters=1)\n",
       "  )\n",
       "  (feature_fusion): KnowledgeFeatureFusion(\n",
       "    (gnn1): GCNConv(384, 32)\n",
       "    (gnn2): GCNConv(32, 32)\n",
       "    (query_projection): Linear(in_features=96, out_features=32, bias=True)\n",
       "    (attn): MultiheadAttention(\n",
       "      (out_proj): NonDynamicallyQuantizableLinear(in_features=32, out_features=32, bias=True)\n",
       "    )\n",
       "    (fusion): Sequential(\n",
       "      (0): Linear(in_features=128, out_features=128, bias=True)\n",
       "      (1): PReLU(num_parameters=1)\n",
       "    )\n",
       "  )\n",
       "  (ffp): FFP(\n",
       "    (shared_backbone): Sequential(\n",
       "      (0): Conv2d(128, 128, kernel_size=(3, 1), stride=(1, 1), padding=(1, 0))\n",
       "      (1): PReLU(num_parameters=1)\n",
       "      (2): Conv2d(128, 128, kernel_size=(3, 1), stride=(1, 1), padding=(1, 0))\n",
       "      (3): PReLU(num_parameters=1)\n",
       "      (4): Conv2d(128, 128, kernel_size=(3, 1), stride=(1, 1), padding=(1, 0))\n",
       "      (5): PReLU(num_parameters=1)\n",
       "      (6): Conv2d(128, 128, kernel_size=(3, 1), stride=(1, 1), padding=(1, 0))\n",
       "      (7): PReLU(num_parameters=1)\n",
       "    )\n",
       "    (activation): PReLU(num_parameters=1)\n",
       "    (high_out): Conv2d(128, 2, kernel_size=(1, 1), stride=(1, 1))\n",
       "    (future_high_out): Conv2d(128, 2, kernel_size=(4, 1), stride=(1, 1))\n",
       "    (low_out): Conv2d(128, 2, kernel_size=(1, 1), stride=(1, 1))\n",
       "    (future_low_out): Conv2d(128, 2, kernel_size=(4, 1), stride=(1, 1))\n",
       "  )\n",
       "  (oa): OA()\n",
       "  (loss_fn): MSELoss()\n",
       ")"
      ]
     },
     "execution_count": 5,
     "metadata": {},
     "output_type": "execute_result"
    }
   ],
   "execution_count": 5
  },
  {
   "cell_type": "code",
   "id": "b35b84149165fe49",
   "metadata": {
    "ExecuteTime": {
     "end_time": "2025-06-24T17:08:41.967916Z",
     "start_time": "2025-06-24T17:08:41.965748Z"
    }
   },
   "source": [
    "anomaly_scores = []\n",
    "for batch in tqdm(test_set, desc=f\"Predicting {test_set_base}\"):\n",
    "    batch = {\n",
    "        k: v.to(DEVICE) if torch.is_tensor(v) else v\n",
    "        for k, v in batch.items()\n",
    "    }\n",
    "    with torch.no_grad():\n",
    "        score = model.predict(batch)\n",
    "    score = score.detach().cpu().numpy()\n",
    "    anomaly_scores += list(score)"
   ],
   "outputs": [],
   "execution_count": 6
  },
  {
   "cell_type": "markdown",
   "id": "eaadcbc598732be8",
   "metadata": {},
   "source": [
    "## Index predicted frames"
   ]
  },
  {
   "cell_type": "code",
   "id": "b4a12045c2cfed97",
   "metadata": {
    "ExecuteTime": {
     "end_time": "2025-06-24T17:25:35.349945Z",
     "start_time": "2025-06-24T17:25:35.189913Z"
    }
   },
   "source": [
    "frame_numbers = [list(sample[-1][\"frame_idx\"])[-1] for sample in test_set.dataset.samples]\n",
    "\n",
    "frames_per_video = []\n",
    "video_frames = []\n",
    "for i, frame_idx in enumerate(frame_numbers[:-1]):\n",
    "    video_frames.append(frame_idx)\n",
    "    next_frame_idx = frame_numbers[i+1]\n",
    "    if frame_idx > next_frame_idx:\n",
    "        frames_per_video.append(video_frames)\n",
    "        video_frames = []\n",
    "# Add last frame index and last video indices\n",
    "video_frames.append(next_frame_idx)\n",
    "frames_per_video.append(video_frames)"
   ],
   "outputs": [],
   "execution_count": 9
  },
  {
   "cell_type": "markdown",
   "id": "b7736947f5fca449",
   "metadata": {},
   "source": [
    "## Match labels with predictions"
   ]
  },
  {
   "cell_type": "code",
   "id": "7628e770903acddc",
   "metadata": {
    "ExecuteTime": {
     "end_time": "2025-06-24T17:28:19.159861Z",
     "start_time": "2025-06-24T17:28:19.152999Z"
    }
   },
   "source": [
    "extracted_labels = [\n",
    "    labels[i][np.array(frames) - 1]  # Video frames are 1-index\n",
    "    for i, frames in enumerate(frames_per_video)\n",
    "]"
   ],
   "outputs": [],
   "execution_count": 18
  },
  {
   "cell_type": "markdown",
   "id": "8d5407c1d926caf5",
   "metadata": {},
   "source": [
    "## Normalize predictions"
   ]
  },
  {
   "cell_type": "code",
   "execution_count": 12,
   "id": "22bd12afaf7e616",
   "metadata": {
    "ExecuteTime": {
     "end_time": "2025-06-24T17:25:36.716873Z",
     "start_time": "2025-06-22T21:59:45.766107Z"
    }
   },
   "outputs": [],
   "source": [
    "normalized_scores = []\n",
    "processed_frames = 0\n",
    "for video_labels in extracted_labels:\n",
    "    new_frames = len(video_labels)\n",
    "    if processed_frames > len(anomaly_scores):\n",
    "        break\n",
    "    scores = normalize_scores(anomaly_scores[processed_frames: processed_frames + new_frames])\n",
    "    normalized_scores.append(scores)\n",
    "    processed_frames += new_frames"
   ]
  },
  {
   "cell_type": "code",
   "execution_count": 14,
   "id": "46951bfd0e7e7fe9",
   "metadata": {
    "ExecuteTime": {
     "end_time": "2025-06-24T17:25:36.717989Z",
     "start_time": "2025-06-22T21:59:47.929349Z"
    }
   },
   "outputs": [],
   "source": [
    "reduced_labels, reduced_preds = [], []\n",
    "for i in range(len(extracted_labels)):\n",
    "    y_true, y_pred = reduce_to_regions(extracted_labels[i], normalized_scores[i])\n",
    "    reduced_labels.append(y_true)\n",
    "    reduced_preds.append(y_pred)"
   ]
  },
  {
   "cell_type": "markdown",
   "id": "8d62f62ad0ec4547",
   "metadata": {},
   "source": [
    "## Visualize"
   ]
  },
  {
   "cell_type": "code",
   "id": "17d5fbd19f1e8a2f",
   "metadata": {
    "ExecuteTime": {
     "end_time": "2025-06-24T17:29:41.954891Z",
     "start_time": "2025-06-24T17:29:41.872717Z"
    }
   },
   "source": [
    "i = 0\n",
    "window_size = 50\n",
    "polynomial_order = 3\n",
    "scores_curve = savgol_filter(normalized_scores[i][..., 0], window_size, polynomial_order)\n",
    "anomaly_score_figure = plot_anomaly_scores(extracted_labels[i], scores_curve)"
   ],
   "outputs": [
    {
     "data": {
      "text/plain": [
       "<Figure size 1500x400 with 1 Axes>"
      ],
      "image/png": "[encoded data removed]"
     },
     "metadata": {},
     "output_type": "display_data"
    }
   ],
   "execution_count": 24
  },
  {
   "cell_type": "code",
   "id": "a5949506abb04dec",
   "metadata": {
    "ExecuteTime": {
     "end_time": "2025-06-24T17:29:49.433183Z",
     "start_time": "2025-06-24T17:29:49.369988Z"
    }
   },
   "source": [
    "roc_curve_fig, roc_auc = plot_roc_curve(np.concatenate(reduced_labels), np.concatenate(reduced_preds))"
   ],
   "outputs": [
    {
     "data": {
      "text/plain": [
       "<Figure size 700x700 with 1 Axes>"
      ],
      "image/png": "[encoded data removed]"
     },
     "metadata": {},
     "output_type": "display_data"
    }
   ],
   "execution_count": 26
  },
  {
   "cell_type": "markdown",
   "id": "283bc0fa1d03f410",
   "metadata": {},
   "source": [
    "## Log metrics"
   ]
  },
  {
   "cell_type": "code",
   "id": "38530e2a149c878d",
   "metadata": {
    "ExecuteTime": {
     "end_time": "2025-06-24T17:30:02.243521Z",
     "start_time": "2025-06-24T17:30:02.054473Z"
    }
   },
   "source": [
    "client = MlflowClient()\n",
    "\n",
    "experiment_name = \"HSTGCNN_UCSD_Ped2\"\n",
    "run_id = \"ed2c307ccb85439a92de41826eea9c68\"\n",
    "\n",
    "mlflow.set_experiment(experiment_name)"
   ],
   "outputs": [
    {
     "data": {
      "text/plain": [
       "<Experiment: artifact_location='file:///Users/oleksandr/Documents/Studies/put-ai/MSc/thesis/GBADiS/mlruns/849674960412173287', creation_time=1750715910856, experiment_id='849674960412173287', last_update_time=1750715910856, lifecycle_stage='active', name='HSTGCNN_UCSD_Ped2', tags={}>"
      ]
     },
     "execution_count": 27,
     "metadata": {},
     "output_type": "execute_result"
    }
   ],
   "execution_count": 27
  },
  {
   "cell_type": "code",
   "id": "2af60a04bd63fbae",
   "metadata": {
    "ExecuteTime": {
     "end_time": "2025-06-24T17:30:06.027127Z",
     "start_time": "2025-06-24T17:30:05.900191Z"
    }
   },
   "source": "client.log_figure(run_id, anomaly_score_figure, \"figures/anomaly_score_graph.png\")",
   "outputs": [],
   "execution_count": 29
  },
  {
   "cell_type": "code",
   "id": "75598220eebd3403",
   "metadata": {
    "ExecuteTime": {
     "end_time": "2025-06-24T17:30:08.237851Z",
     "start_time": "2025-06-24T17:30:08.210790Z"
    }
   },
   "source": "client.log_figure(run_id, roc_curve_fig, \"figures/roc_auc.png\")",
   "outputs": [],
   "execution_count": 30
  },
  {
   "cell_type": "code",
   "id": "387eefb77716125e",
   "metadata": {
    "ExecuteTime": {
     "end_time": "2025-06-24T17:30:10.334514Z",
     "start_time": "2025-06-24T17:30:10.244515Z"
    }
   },
   "source": "client.log_metric(run_id, \"roc_auc\", roc_auc)",
   "outputs": [],
   "execution_count": 31
  }
 ],
 "metadata": {
  "kernelspec": {
   "display_name": "Python 3 (ipykernel)",
   "language": "python",
   "name": "python3"
  },
  "language_info": {
   "codemirror_mode": {
    "name": "ipython",
    "version": 3
   },
   "file_extension": ".py",
   "mimetype": "text/x-python",
   "name": "python",
   "nbconvert_exporter": "python",
   "pygments_lexer": "ipython3",
   "version": "3.11.12"
  }
 },
 "nbformat": 4,
 "nbformat_minor": 5
}
