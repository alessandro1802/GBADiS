{
 "cells": [
  {
   "cell_type": "markdown",
   "id": "c88326f314eb3ce7",
   "metadata": {},
   "source": [
    "# Imports"
   ]
  },
  {
   "cell_type": "code",
   "execution_count": 1,
   "id": "initial_id",
   "metadata": {
    "ExecuteTime": {
     "end_time": "2025-06-09T13:38:35.731114Z",
     "start_time": "2025-06-09T13:38:31.087943Z"
    }
   },
   "outputs": [
    {
     "data": {
      "text/plain": [
       "False"
      ]
     },
     "execution_count": 1,
     "metadata": {},
     "output_type": "execute_result"
    }
   ],
   "source": [
    "import os\n",
    "import re\n",
    "\n",
    "import numpy as np\n",
    "from tqdm.notebook import tqdm\n",
    "import torch\n",
    "from torch.utils.data import DataLoader\n",
    "from sklearn.preprocessing import MinMaxScaler\n",
    "from scipy.signal import savgol_filter\n",
    "import mlflow\n",
    "from mlflow.tracking import MlflowClient\n",
    "from dotenv import load_dotenv\n",
    "\n",
    "from src.datasets import SurveillanceAnomalyDataset\n",
    "from src.hstgcnn import KnowledgeHSTGCNN\n",
    "from visualize import plot_anomaly_scores, plot_roc_curve\n",
    "\n",
    "\n",
    "load_dotenv()"
   ]
  },
  {
   "cell_type": "markdown",
   "id": "4d450aa7ca468307",
   "metadata": {},
   "source": [
    "# Load data"
   ]
  },
  {
   "cell_type": "code",
   "execution_count": 2,
   "id": "eb472b91aff56a7a",
   "metadata": {
    "ExecuteTime": {
     "end_time": "2025-06-09T13:38:35.768865Z",
     "start_time": "2025-06-09T13:38:35.765841Z"
    }
   },
   "outputs": [],
   "source": [
    "data_path = \"./data\"\n",
    "test_set_base = \"UCSD_Anomaly_Dataset.v1p2/UCSDped1/Test/\"\n",
    "gt_filename = \"UCSDped1.m\""
   ]
  },
  {
   "cell_type": "markdown",
   "id": "d904708b1f0c870d",
   "metadata": {},
   "source": [
    "## Load labels"
   ]
  },
  {
   "cell_type": "code",
   "execution_count": 3,
   "id": "c70ba61feaed9a95",
   "metadata": {
    "ExecuteTime": {
     "end_time": "2025-06-09T13:38:35.850583Z",
     "start_time": "2025-06-09T13:38:35.847350Z"
    }
   },
   "outputs": [],
   "source": [
    "def load_labels(filepath: str, video_len: int = 200) -> np.ndarray:\n",
    "    # Load .m file\n",
    "    gt_list = []\n",
    "    with open(filepath, 'r') as f:\n",
    "        for line in f:\n",
    "            match = re.search(r'gt_frame\\s*=\\s*\\[(.*?)\\];', line)\n",
    "            if match:\n",
    "                frame_str = match.group(1)\n",
    "                # Expand MATLAB-style ranges (60:152 -> 60, 61, ..., 152)\n",
    "                frame_nums = []\n",
    "                for part in frame_str.replace(',', ' ').split():\n",
    "                    if ':' in part:\n",
    "                        start, end = map(int, part.split(':'))\n",
    "                        frame_nums.extend(range(start, end + 1))\n",
    "                    else:\n",
    "                        frame_nums.append(int(part))\n",
    "                # Convert to 0-based indexing\n",
    "                gt_list.append([i - 1 for i in frame_nums])\n",
    "    # Create binary labels for each frame in every video\n",
    "    labels = []\n",
    "    for gt_frames in gt_list:\n",
    "        label = np.zeros(video_len, dtype=int)\n",
    "        label[gt_frames] = 1\n",
    "        labels.append(label)\n",
    "    return np.array(labels)"
   ]
  },
  {
   "cell_type": "code",
   "execution_count": 4,
   "id": "a9889e752022d36e",
   "metadata": {
    "ExecuteTime": {
     "end_time": "2025-06-09T13:38:35.859537Z",
     "start_time": "2025-06-09T13:38:35.856377Z"
    }
   },
   "outputs": [],
   "source": [
    "gt_path = os.path.join(data_path, test_set_base, gt_filename)\n",
    "video_len = 200\n",
    "labels = load_labels(gt_path, video_len)  # [n_videos, video_len]"
   ]
  },
  {
   "cell_type": "markdown",
   "id": "b557c46d280a0453",
   "metadata": {},
   "source": [
    "## Load test set"
   ]
  },
  {
   "cell_type": "code",
   "execution_count": 5,
   "id": "94c5b7825a4bbe84",
   "metadata": {
    "ExecuteTime": {
     "end_time": "2025-06-09T13:38:35.899387Z",
     "start_time": "2025-06-09T13:38:35.865895Z"
    }
   },
   "outputs": [],
   "source": [
    "dataset_path = os.path.join(data_path, \"processed\", test_set_base)\n",
    "BATCH_SIZE = 64\n",
    "num_workers = 4\n",
    "\n",
    "test_set = SurveillanceAnomalyDataset(dataset_path)\n",
    "test_set = DataLoader(\n",
    "    test_set,\n",
    "    batch_size=BATCH_SIZE,\n",
    "    shuffle=False,\n",
    "    num_workers=num_workers,\n",
    "    persistent_workers=True,\n",
    ")"
   ]
  },
  {
   "cell_type": "markdown",
   "id": "7eafc23bf88b04f5",
   "metadata": {},
   "source": [
    "# Evaluate"
   ]
  },
  {
   "cell_type": "markdown",
   "id": "d889aea6aed8291b",
   "metadata": {},
   "source": [
    "## Make predictions"
   ]
  },
  {
   "cell_type": "code",
   "execution_count": 6,
   "id": "25efb6c1c9877311",
   "metadata": {
    "ExecuteTime": {
     "end_time": "2025-06-09T13:38:36.111102Z",
     "start_time": "2025-06-09T13:38:35.912698Z"
    },
    "scrolled": true
   },
   "outputs": [
    {
     "data": {
      "text/plain": [
       "KnowledgeHSTGCNN(\n",
       "  (high_level_stgcnn): STGCNN(\n",
       "    (gcn): GCNConv(2, 32)\n",
       "    (activation): PReLU(num_parameters=1)\n",
       "  )\n",
       "  (low_level_stgcnn): STGCNN(\n",
       "    (gcn): GCNConv(2, 64)\n",
       "    (activation): PReLU(num_parameters=1)\n",
       "  )\n",
       "  (feature_fusion): KnowledgeFeatureFusion(\n",
       "    (gnn1): GCNConv(8, 32)\n",
       "    (gnn2): GCNConv(32, 32)\n",
       "    (fusion): Sequential(\n",
       "      (0): Linear(in_features=128, out_features=128, bias=True)\n",
       "      (1): PReLU(num_parameters=1)\n",
       "    )\n",
       "  )\n",
       "  (ffp): FFP(\n",
       "    (shared_backbone): Sequential(\n",
       "      (0): Conv2d(128, 128, kernel_size=(3, 1), stride=(1, 1), padding=(1, 0))\n",
       "      (1): PReLU(num_parameters=1)\n",
       "      (2): Conv2d(128, 128, kernel_size=(3, 1), stride=(1, 1), padding=(1, 0))\n",
       "      (3): PReLU(num_parameters=1)\n",
       "      (4): Conv2d(128, 128, kernel_size=(3, 1), stride=(1, 1), padding=(1, 0))\n",
       "      (5): PReLU(num_parameters=1)\n",
       "      (6): Conv2d(128, 128, kernel_size=(3, 1), stride=(1, 1), padding=(1, 0))\n",
       "      (7): PReLU(num_parameters=1)\n",
       "    )\n",
       "    (activation): PReLU(num_parameters=1)\n",
       "    (high_out): Conv2d(128, 2, kernel_size=(1, 1), stride=(1, 1))\n",
       "    (future_high_out): Conv2d(128, 2, kernel_size=(4, 1), stride=(1, 1))\n",
       "    (low_out): Conv2d(128, 2, kernel_size=(1, 1), stride=(1, 1))\n",
       "    (future_low_out): Conv2d(128, 2, kernel_size=(4, 1), stride=(1, 1))\n",
       "  )\n",
       "  (oa): OA()\n",
       "  (loss_fn): MSELoss()\n",
       ")"
      ]
     },
     "execution_count": 6,
     "metadata": {},
     "output_type": "execute_result"
    }
   ],
   "source": [
    "checkpoint_path = \"./checkpoints/KnowledgeHSTGCNN_v200-epoch_16.ckpt\"\n",
    "DEVICE = \"mps\"\n",
    "\n",
    "model = KnowledgeHSTGCNN.load_from_checkpoint(checkpoint_path, ontology_device=DEVICE)\n",
    "model.to(DEVICE)\n",
    "model.eval()"
   ]
  },
  {
   "cell_type": "code",
   "execution_count": 7,
   "id": "b35b84149165fe49",
   "metadata": {
    "ExecuteTime": {
     "end_time": "2025-06-09T14:02:17.619946Z",
     "start_time": "2025-06-09T13:38:36.120564Z"
    }
   },
   "outputs": [
    {
     "data": {
      "application/vnd.jupyter.widget-view+json": {
       "model_id": "1a560702993f4cdfa2b43e516d15a667",
       "version_major": 2,
       "version_minor": 0
      },
      "text/plain": [
       "Predicting UCSD_Anomaly_Dataset.v1p2/UCSDped1/Test/:   0%|          | 0/110 [00:00<?, ?it/s]"
      ]
     },
     "metadata": {},
     "output_type": "display_data"
    }
   ],
   "source": [
    "anomaly_scores = []\n",
    "for batch in tqdm(test_set, desc=f\"Predicting {test_set_base}\"):\n",
    "    batch = {\n",
    "        k: v.to(DEVICE) if torch.is_tensor(v) else v\n",
    "        for k, v in batch.items()\n",
    "    }\n",
    "    with torch.no_grad():\n",
    "        score = model.predict(batch)\n",
    "    score = score.detach().cpu().numpy()\n",
    "    anomaly_scores += list(score)"
   ]
  },
  {
   "cell_type": "markdown",
   "id": "eaadcbc598732be8",
   "metadata": {},
   "source": [
    "## Index predicted frames"
   ]
  },
  {
   "cell_type": "code",
   "execution_count": 8,
   "id": "b4a12045c2cfed97",
   "metadata": {
    "ExecuteTime": {
     "end_time": "2025-06-09T14:02:19.074842Z",
     "start_time": "2025-06-09T14:02:19.051045Z"
    }
   },
   "outputs": [],
   "source": [
    "frame_numbers = [\n",
    "    [int(frame_path.split('/')[-1].split('.')[0]) for frame_path in sample][-1]\n",
    "    for sample in test_set.dataset.samples\n",
    "]\n",
    "\n",
    "frames_per_video = []\n",
    "video_frames = []\n",
    "for i, frame_idx in enumerate(frame_numbers[:-1]):\n",
    "    video_frames.append(frame_idx)\n",
    "    next_frame_idx = frame_numbers[i+1]\n",
    "    if frame_idx > next_frame_idx:\n",
    "        frames_per_video.append(video_frames)\n",
    "        video_frames = []\n",
    "# Add last frame index and last video indices\n",
    "video_frames.append(next_frame_idx)\n",
    "frames_per_video.append(video_frames)"
   ]
  },
  {
   "cell_type": "markdown",
   "id": "b7736947f5fca449",
   "metadata": {},
   "source": [
    "## Match labels with predictions"
   ]
  },
  {
   "cell_type": "code",
   "execution_count": 9,
   "id": "7628e770903acddc",
   "metadata": {
    "ExecuteTime": {
     "end_time": "2025-06-09T14:02:20.100155Z",
     "start_time": "2025-06-09T14:02:20.097380Z"
    }
   },
   "outputs": [],
   "source": [
    "extracted_labels = [\n",
    "    labels[i, np.array(frames) - 1]  # Video frames are 1-index\n",
    "    for i, frames in enumerate(frames_per_video)\n",
    "]"
   ]
  },
  {
   "cell_type": "markdown",
   "id": "8d5407c1d926caf5",
   "metadata": {},
   "source": [
    "## Normalize predictions"
   ]
  },
  {
   "cell_type": "code",
   "execution_count": 10,
   "id": "ab1004cd7192ea25",
   "metadata": {
    "ExecuteTime": {
     "end_time": "2025-06-09T14:02:21.115325Z",
     "start_time": "2025-06-09T14:02:21.111582Z"
    }
   },
   "outputs": [],
   "source": [
    "def normalize(scores, scaler=MinMaxScaler):\n",
    "    scores_arr = np.array(scores)\n",
    "    scores_arr = scaler().fit_transform(scores_arr[..., np.newaxis])\n",
    "    return scores_arr / np.amax(scores_arr)"
   ]
  },
  {
   "cell_type": "code",
   "execution_count": 11,
   "id": "22bd12afaf7e616",
   "metadata": {
    "ExecuteTime": {
     "end_time": "2025-06-09T14:02:22.227111Z",
     "start_time": "2025-06-09T14:02:22.182639Z"
    }
   },
   "outputs": [],
   "source": [
    "normalized_scores = []\n",
    "processed_frames = 0\n",
    "for video_labels in extracted_labels:\n",
    "    new_frames = len(video_labels)\n",
    "    if processed_frames > len(anomaly_scores):\n",
    "        break\n",
    "    scores = normalize(anomaly_scores[processed_frames: processed_frames + new_frames])\n",
    "    normalized_scores.append(scores)\n",
    "    processed_frames += new_frames"
   ]
  },
  {
   "cell_type": "code",
   "execution_count": 12,
   "id": "a6c3c03e48b54cad",
   "metadata": {
    "ExecuteTime": {
     "end_time": "2025-06-09T14:02:23.306755Z",
     "start_time": "2025-06-09T14:02:23.303510Z"
    }
   },
   "outputs": [],
   "source": [
    "def reduce_to_regions(labels, predictions):\n",
    "    labels = np.array(labels)\n",
    "    predictions = np.array(predictions)\n",
    "    reduced_labels = []\n",
    "    reduced_preds = []\n",
    "    start = 0\n",
    "    while start < len(labels):\n",
    "        # Find start of next region (either label or prediction changes)\n",
    "        end = start + 1\n",
    "        while end < len(labels) and labels[end] == labels[start]:\n",
    "            end += 1\n",
    "        # Reduce current region\n",
    "        region_label = labels[start]\n",
    "        region_max_pred = predictions[start:end].max()\n",
    "        reduced_labels.append(region_label)\n",
    "        reduced_preds.append(region_max_pred)\n",
    "        start = end\n",
    "    return np.array(reduced_labels), np.array(reduced_preds)"
   ]
  },
  {
   "cell_type": "code",
   "execution_count": 13,
   "id": "46951bfd0e7e7fe9",
   "metadata": {
    "ExecuteTime": {
     "end_time": "2025-06-09T14:02:24.406394Z",
     "start_time": "2025-06-09T14:02:24.403646Z"
    }
   },
   "outputs": [],
   "source": [
    "reduced_labels, reduced_preds = [], []\n",
    "for i in range(len(extracted_labels)):\n",
    "    y_true, y_pred = reduce_to_regions(extracted_labels[i], normalized_scores[i])\n",
    "    reduced_labels.append(y_true)\n",
    "    reduced_preds.append(y_pred)"
   ]
  },
  {
   "cell_type": "markdown",
   "id": "8d62f62ad0ec4547",
   "metadata": {},
   "source": [
    "## Visualize"
   ]
  },
  {
   "cell_type": "code",
   "execution_count": 14,
   "id": "17d5fbd19f1e8a2f",
   "metadata": {
    "ExecuteTime": {
     "end_time": "2025-06-09T14:02:25.840130Z",
     "start_time": "2025-06-09T14:02:25.493385Z"
    }
   },
   "outputs": [
    {
     "data": {
      "image/png": "[encoded data removed]",
      "text/plain": [
       "<Figure size 1500x400 with 1 Axes>"
      ]
     },
     "metadata": {},
     "output_type": "display_data"
    }
   ],
   "source": [
    "i = 4\n",
    "window_size = 50\n",
    "polynomial_order = 3\n",
    "scores_curve = savgol_filter(normalized_scores[i][..., 0], window_size, polynomial_order)\n",
    "anomaly_score_figure = plot_anomaly_scores(extracted_labels[i], scores_curve)"
   ]
  },
  {
   "cell_type": "code",
   "execution_count": 15,
   "id": "a5949506abb04dec",
   "metadata": {
    "ExecuteTime": {
     "end_time": "2025-06-09T14:02:26.949116Z",
     "start_time": "2025-06-09T14:02:26.907455Z"
    },
    "scrolled": true
   },
   "outputs": [
    {
     "data": {
      "image/png": "[encoded data removed]",
      "text/plain": [
       "<Figure size 500x500 with 1 Axes>"
      ]
     },
     "metadata": {},
     "output_type": "display_data"
    }
   ],
   "source": [
    "roc_curve_fig, roc_auc = plot_roc_curve(np.concatenate(reduced_labels), np.concatenate(reduced_preds))"
   ]
  },
  {
   "cell_type": "markdown",
   "id": "283bc0fa1d03f410",
   "metadata": {},
   "source": [
    "## Log metrics"
   ]
  },
  {
   "cell_type": "code",
   "execution_count": null,
   "id": "38530e2a149c878d",
   "metadata": {
    "ExecuteTime": {
     "end_time": "2025-06-09T14:02:28.207446Z",
     "start_time": "2025-06-09T14:02:28.031981Z"
    }
   },
   "outputs": [],
   "source": [
    "client = MlflowClient()\n",
    "\n",
    "experiment_name = \"HSTGCNN_UCSD_Ped1\"\n",
    "run_id = \"fa7b5cf6978140cba168c10e980f38f0\"\n",
    "\n",
    "mlflow.set_experiment(experiment_name)"
   ]
  },
  {
   "cell_type": "code",
   "execution_count": 17,
   "id": "2af60a04bd63fbae",
   "metadata": {
    "ExecuteTime": {
     "end_time": "2025-06-09T14:02:29.478816Z",
     "start_time": "2025-06-09T14:02:29.346884Z"
    }
   },
   "outputs": [],
   "source": [
    "client.log_figure(run_id, anomaly_score_figure, \"figures/anomaly_score_graph.png\")"
   ]
  },
  {
   "cell_type": "code",
   "execution_count": 18,
   "id": "75598220eebd3403",
   "metadata": {
    "ExecuteTime": {
     "end_time": "2025-06-09T14:02:30.392017Z",
     "start_time": "2025-06-09T14:02:30.374429Z"
    }
   },
   "outputs": [],
   "source": [
    "client.log_figure(run_id, roc_curve_fig, \"figures/roc_auc.png\")"
   ]
  },
  {
   "cell_type": "code",
   "execution_count": 19,
   "id": "387eefb77716125e",
   "metadata": {
    "ExecuteTime": {
     "end_time": "2025-06-09T14:02:31.544185Z",
     "start_time": "2025-06-09T14:02:31.478974Z"
    }
   },
   "outputs": [],
   "source": [
    "client.log_metric(run_id, \"roc_auc\", roc_auc)"
   ]
  }
 ],
 "metadata": {
  "kernelspec": {
   "display_name": "Python 3 (ipykernel)",
   "language": "python",
   "name": "python3"
  },
  "language_info": {
   "codemirror_mode": {
    "name": "ipython",
    "version": 3
   },
   "file_extension": ".py",
   "mimetype": "text/x-python",
   "name": "python",
   "nbconvert_exporter": "python",
   "pygments_lexer": "ipython3",
   "version": "3.11.10"
  }
 },
 "nbformat": 4,
 "nbformat_minor": 5
}
