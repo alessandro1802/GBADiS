{
 "cells": [
  {
   "metadata": {},
   "cell_type": "markdown",
   "source": "# Imports",
   "id": "28b82778ad5f79c9"
  },
  {
   "metadata": {},
   "cell_type": "code",
   "source": [
    "import os\n",
    "\n",
    "from dotenv import load_dotenv\n",
    "import torch\n",
    "from torch.utils.data import DataLoader\n",
    "import lightning as pl\n",
    "from lightning.pytorch.loggers import MLFlowLogger\n",
    "import mlflow.pytorch\n",
    "\n",
    "from src.datasets import SurveillanceAnomalyDataset\n",
    "from src.hstgcnn import HSTGCNN\n",
    "\n",
    "\n",
    "load_dotenv()"
   ],
   "id": "a3158a626d27ac5e",
   "outputs": [],
   "execution_count": null
  },
  {
   "metadata": {},
   "cell_type": "markdown",
   "source": "# Data loaders",
   "id": "69f13e4481c9c79f"
  },
  {
   "metadata": {},
   "cell_type": "code",
   "source": [
    "dataset_path = \"./data/processed/UCSD_Anomaly_Dataset.v1p2/UCSDped1/Train\"\n",
    "BATCH_SIZE = 64\n",
    "num_workers = 4\n",
    "\n",
    "# Create dataset and dataloaders\n",
    "dataset = SurveillanceAnomalyDataset(dataset_path)\n",
    "train_dataset, val_dataset = torch.utils.data.random_split(dataset, [0.8, 0.2])\n",
    "\n",
    "train_loader = DataLoader(\n",
    "    train_dataset,\n",
    "    batch_size=BATCH_SIZE,\n",
    "    shuffle=True,\n",
    "    num_workers=num_workers,\n",
    "    persistent_workers=True,\n",
    ")\n",
    "val_loader = DataLoader(\n",
    "    val_dataset,\n",
    "    batch_size=BATCH_SIZE,\n",
    "    shuffle=False,\n",
    "    num_workers=num_workers,\n",
    "    persistent_workers=True,\n",
    ")"
   ],
   "id": "9b1781b362e2e43f",
   "outputs": [],
   "execution_count": null
  },
  {
   "metadata": {},
   "cell_type": "markdown",
   "source": "# Training loop",
   "id": "212670d65342fa37"
  },
  {
   "metadata": {},
   "cell_type": "code",
   "source": [
    "DEVICE = \"mps\"\n",
    "EPOCHS = 20\n",
    "learning_rate = 1e-3\n",
    "\n",
    "experiment_name = \"HSTGCNN_UCSD_Ped1\"\n",
    "model_version = \"1.0.0\"\n",
    "run_name = f\"HSTGCNN@{model_version}\"\n",
    "\n",
    "model_definition_path = \"./src/hstgcnn.py\""
   ],
   "id": "9f55c8312a8417e8",
   "outputs": [],
   "execution_count": null
  },
  {
   "metadata": {
    "jupyter": {
     "is_executing": true
    }
   },
   "cell_type": "code",
   "source": [
    "mlflow.set_experiment(experiment_name)\n",
    "mlf_logger = MLFlowLogger(\n",
    "    tracking_uri=os.getenv(\"MLFLOW_TRACKING_URI\"),\n",
    "    experiment_name=experiment_name,\n",
    "    run_name=run_name,\n",
    "    log_model=False,\n",
    ")\n",
    "# Initialize trainer\n",
    "trainer = pl.Trainer(\n",
    "    max_epochs=EPOCHS,\n",
    "    accelerator=DEVICE,\n",
    "    log_every_n_steps=1,\n",
    "    logger=mlf_logger,\n",
    "    callbacks=[\n",
    "        pl.pytorch.callbacks.EarlyStopping(monitor='val_loss', patience=3, mode='min'),\n",
    "        pl.pytorch.callbacks.ModelCheckpoint(dirpath='./checkpoints', filename='hstgcnn-epoch_{epoch:02d}',\n",
    "                                     monitor='val_loss', mode='min', save_top_k=1,\n",
    "                                     save_last=False, auto_insert_metric_name=False),\n",
    "    ],\n",
    ")\n",
    "\n",
    "model = HSTGCNN(oa_weights=[0.2, 0.5, 0.3], lr=learning_rate).to(DEVICE)\n",
    "# Log hyperparameters to MLflow\n",
    "mlf_logger.log_hyperparams({\n",
    "    'model_name': model.__class__.__name__,\n",
    "    'learning_rate': learning_rate,\n",
    "    'batch_size': BATCH_SIZE,\n",
    "    'max_epochs': EPOCHS,\n",
    "})\n",
    "# Train the model\n",
    "trainer.fit(model, train_dataloaders=train_loader, val_dataloaders=val_loader)\n",
    "# Log artifacts\n",
    "best_model_path = trainer.checkpoint_callback.best_model_path\n",
    "if best_model_path:\n",
    "    mlf_logger.experiment.log_artifact(mlf_logger.run_id, best_model_path, \"models\")\n",
    "    mlf_logger.experiment.log_artifact(mlf_logger.run_id, model_definition_path, \"models\")"
   ],
   "id": "7f97e36b6efe9306",
   "outputs": [],
   "execution_count": null
  }
 ],
 "metadata": {
  "kernelspec": {
   "display_name": "Python 3",
   "language": "python",
   "name": "python3"
  },
  "language_info": {
   "codemirror_mode": {
    "name": "ipython",
    "version": 2
   },
   "file_extension": ".py",
   "mimetype": "text/x-python",
   "name": "python",
   "nbconvert_exporter": "python",
   "pygments_lexer": "ipython2",
   "version": "2.7.6"
  }
 },
 "nbformat": 4,
 "nbformat_minor": 5
}
