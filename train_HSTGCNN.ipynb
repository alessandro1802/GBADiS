{
 "cells": [
  {
   "metadata": {},
   "cell_type": "markdown",
   "source": "# Imports",
   "id": "28b82778ad5f79c9"
  },
  {
   "metadata": {},
   "cell_type": "code",
   "source": [
    "import torch\n",
    "from torch.utils.data import DataLoader\n",
    "import pytorch_lightning as pl\n",
    "import mlflow.pytorch\n",
    "\n",
    "from src.datasets import SurveillanceAnomalyDataset\n",
    "from src.hstgcnn import HSTGCNN"
   ],
   "id": "a3158a626d27ac5e",
   "outputs": [],
   "execution_count": null
  },
  {
   "metadata": {},
   "cell_type": "markdown",
   "source": "# Data loaders",
   "id": "69f13e4481c9c79f"
  },
  {
   "metadata": {},
   "cell_type": "code",
   "source": [
    "dataset_path = \"./data/processed/UCSD_Anomaly_Dataset.v1p2/UCSDped1/Train\"\n",
    "BATCH_SIZE = 32\n",
    "num_workers = 4\n",
    "\n",
    "# Create dataset and dataloaders\n",
    "dataset = SurveillanceAnomalyDataset(dataset_path)\n",
    "train_dataset, val_dataset = torch.utils.data.random_split(dataset, [0.8, 0.2])\n",
    "\n",
    "train_loader = DataLoader(\n",
    "    train_dataset,\n",
    "    BATCH_SIZE=BATCH_SIZE,\n",
    "    shuffle=True,\n",
    "    num_workers=num_workers,\n",
    "    persistent_workers=True,\n",
    ")\n",
    "val_loader = DataLoader(\n",
    "    val_dataset,\n",
    "    BATCH_SIZE=BATCH_SIZE,\n",
    "    shuffle=False,\n",
    "    num_workers=num_workers,\n",
    "    persistent_workers=True,\n",
    ")"
   ],
   "id": "9b1781b362e2e43f",
   "outputs": [],
   "execution_count": null
  },
  {
   "metadata": {},
   "cell_type": "markdown",
   "source": "# Training loop",
   "id": "212670d65342fa37"
  },
  {
   "metadata": {},
   "cell_type": "code",
   "source": [
    "DEVICE = \"mps\"\n",
    "EPOCHS = 20\n",
    "learning_rate = 1e-3\n",
    "\n",
    "experiment_name = \"HSTGCNN_UCSD_Ped1\"\n",
    "model_version = \"1.0.0\"\n",
    "run_name = f\"HSTGCNN@{model_version}\""
   ],
   "id": "9f55c8312a8417e8",
   "outputs": [],
   "execution_count": null
  },
  {
   "metadata": {},
   "cell_type": "code",
   "source": [
    "mlflow.set_experiment(experiment_name)\n",
    "with mlflow.start_run(run_name=run_name) as run:\n",
    "    run_id = run.info.run_id\n",
    "    # Initialize trainer\n",
    "    trainer = pl.Trainer(\n",
    "        max_epochs=EPOCHS,\n",
    "        accelerator=DEVICE,\n",
    "        log_every_n_steps=10,\n",
    "        enable_checkpointing=True,\n",
    "        callbacks=[\n",
    "            pl.callbacks.ModelCheckpoint(dirpath='checkpoints', filename='hstgcnn-{epoch:02d}-{val_score:.2f}',\n",
    "                                         save_top_k=3,monitor='val_loss'),\n",
    "            pl.callbacks.EarlyStopping(monitor='val_loss', patience=5, mode='min')\n",
    "        ]\n",
    "    )\n",
    "\n",
    "    model = HSTGCNN().to(DEVICE)\n",
    "    # Log hyperparameters to MLflow\n",
    "    mlflow.log_params({\n",
    "        'model_name': model.__class__.__name__,\n",
    "        'learning_rate': learning_rate,\n",
    "        'BATCH_SIZE': BATCH_SIZE,\n",
    "        'max_epochs': EPOCHS,\n",
    "    })\n",
    "    # Train the model\n",
    "    trainer.fit(model, train_loader, val_loader)\n",
    "    # Log model to MLflow\n",
    "    mlflow.pytorch.log_model(model, \"models\")"
   ],
   "id": "7f97e36b6efe9306",
   "outputs": [],
   "execution_count": null
  }
 ],
 "metadata": {
  "kernelspec": {
   "display_name": "Python 3",
   "language": "python",
   "name": "python3"
  },
  "language_info": {
   "codemirror_mode": {
    "name": "ipython",
    "version": 2
   },
   "file_extension": ".py",
   "mimetype": "text/x-python",
   "name": "python",
   "nbconvert_exporter": "python",
   "pygments_lexer": "ipython2",
   "version": "2.7.6"
  }
 },
 "nbformat": 4,
 "nbformat_minor": 5
}
