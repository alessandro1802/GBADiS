{
 "cells": [
  {
   "metadata": {},
   "cell_type": "markdown",
   "source": "# Imports",
   "id": "c88326f314eb3ce7"
  },
  {
   "cell_type": "code",
   "id": "initial_id",
   "metadata": {
    "collapsed": true,
    "ExecuteTime": {
     "end_time": "2025-06-11T11:51:13.640591Z",
     "start_time": "2025-06-11T11:51:07.558919Z"
    }
   },
   "source": [
    "import os\n",
    "import re\n",
    "\n",
    "import numpy as np\n",
    "from tqdm.notebook import tqdm\n",
    "import torch\n",
    "from torch.utils.data import DataLoader\n",
    "from sklearn.preprocessing import MinMaxScaler\n",
    "from scipy.signal import savgol_filter\n",
    "import mlflow\n",
    "from mlflow.tracking import MlflowClient\n",
    "from dotenv import load_dotenv\n",
    "\n",
    "from src.datasets import SurveillanceAnomalyDataset\n",
    "from src.hstgcnn import HSTGCNN\n",
    "from visualize import plot_anomaly_scores, plot_roc_curve\n",
    "\n",
    "\n",
    "load_dotenv()"
   ],
   "outputs": [
    {
     "data": {
      "text/plain": [
       "True"
      ]
     },
     "execution_count": 1,
     "metadata": {},
     "output_type": "execute_result"
    }
   ],
   "execution_count": 1
  },
  {
   "metadata": {},
   "cell_type": "markdown",
   "source": "# Load data",
   "id": "4d450aa7ca468307"
  },
  {
   "metadata": {
    "ExecuteTime": {
     "end_time": "2025-06-11T11:51:13.706766Z",
     "start_time": "2025-06-11T11:51:13.703783Z"
    }
   },
   "cell_type": "code",
   "source": [
    "data_path = \"./data\"\n",
    "test_set_base = \"UCSD_Anomaly_Dataset.v1p2/UCSDped1/Test/\"\n",
    "gt_filename = \"UCSDped1.m\""
   ],
   "id": "eb472b91aff56a7a",
   "outputs": [],
   "execution_count": 2
  },
  {
   "metadata": {},
   "cell_type": "markdown",
   "source": "## Load labels",
   "id": "d904708b1f0c870d"
  },
  {
   "metadata": {
    "ExecuteTime": {
     "end_time": "2025-06-11T11:51:13.719856Z",
     "start_time": "2025-06-11T11:51:13.715664Z"
    }
   },
   "cell_type": "code",
   "source": [
    "def load_labels(filepath: str, video_len: int = 200) -> np.ndarray:\n",
    "    # Load .m file\n",
    "    gt_list = []\n",
    "    with open(filepath, 'r') as f:\n",
    "        for line in f:\n",
    "            match = re.search(r'gt_frame\\s*=\\s*\\[(.*?)\\];', line)\n",
    "            if match:\n",
    "                frame_str = match.group(1)\n",
    "                # Expand MATLAB-style ranges (60:152 -> 60, 61, ..., 152)\n",
    "                frame_nums = []\n",
    "                for part in frame_str.replace(',', ' ').split():\n",
    "                    if ':' in part:\n",
    "                        start, end = map(int, part.split(':'))\n",
    "                        frame_nums.extend(range(start, end + 1))\n",
    "                    else:\n",
    "                        frame_nums.append(int(part))\n",
    "                # Convert to 0-based indexing\n",
    "                gt_list.append([i - 1 for i in frame_nums])\n",
    "    # Create binary labels for each frame in every video\n",
    "    labels = []\n",
    "    for gt_frames in gt_list:\n",
    "        label = np.zeros(video_len, dtype=int)\n",
    "        label[gt_frames] = 1\n",
    "        labels.append(label)\n",
    "    return np.array(labels)"
   ],
   "id": "c70ba61feaed9a95",
   "outputs": [],
   "execution_count": 3
  },
  {
   "metadata": {
    "ExecuteTime": {
     "end_time": "2025-06-11T11:51:13.810242Z",
     "start_time": "2025-06-11T11:51:13.804517Z"
    }
   },
   "cell_type": "code",
   "source": [
    "gt_path = os.path.join(data_path, test_set_base, gt_filename)\n",
    "video_len = 200\n",
    "labels = load_labels(gt_path, video_len)  # [n_videos, video_len]"
   ],
   "id": "a9889e752022d36e",
   "outputs": [],
   "execution_count": 4
  },
  {
   "metadata": {},
   "cell_type": "markdown",
   "source": "## Load test set",
   "id": "b557c46d280a0453"
  },
  {
   "metadata": {
    "ExecuteTime": {
     "end_time": "2025-06-11T11:51:13.869961Z",
     "start_time": "2025-06-11T11:51:13.836494Z"
    }
   },
   "cell_type": "code",
   "source": [
    "dataset_path = os.path.join(data_path, \"processed\", test_set_base)\n",
    "BATCH_SIZE = 64\n",
    "num_workers = 4\n",
    "\n",
    "test_set = SurveillanceAnomalyDataset(dataset_path)\n",
    "test_set = DataLoader(\n",
    "    test_set,\n",
    "    batch_size=BATCH_SIZE,\n",
    "    shuffle=False,\n",
    "    num_workers=num_workers,\n",
    "    persistent_workers=True,\n",
    ")"
   ],
   "id": "94c5b7825a4bbe84",
   "outputs": [],
   "execution_count": 5
  },
  {
   "metadata": {},
   "cell_type": "markdown",
   "source": "# Evaluate",
   "id": "7eafc23bf88b04f5"
  },
  {
   "metadata": {},
   "cell_type": "markdown",
   "source": "## Make predictions",
   "id": "d889aea6aed8291b"
  },
  {
   "metadata": {
    "ExecuteTime": {
     "end_time": "2025-06-11T11:51:14.157526Z",
     "start_time": "2025-06-11T11:51:13.939484Z"
    }
   },
   "cell_type": "code",
   "source": [
    "checkpoint_path = \"./checkpoints/HSTGCNN_v200-epoch_15.ckpt\"\n",
    "DEVICE = \"mps\"\n",
    "\n",
    "model = HSTGCNN.load_from_checkpoint(checkpoint_path)\n",
    "model.to(DEVICE)\n",
    "model.eval()"
   ],
   "id": "25efb6c1c9877311",
   "outputs": [
    {
     "data": {
      "text/plain": [
       "HSTGCNN(\n",
       "  (high_level_stgcnn): STGCNN(\n",
       "    (gcn): GCNConv(2, 32)\n",
       "    (activation): PReLU(num_parameters=1)\n",
       "  )\n",
       "  (low_level_stgcnn): STGCNN(\n",
       "    (gcn): GCNConv(2, 64)\n",
       "    (activation): PReLU(num_parameters=1)\n",
       "  )\n",
       "  (feature_fusion): FeatureFusion(\n",
       "    (fc): Linear(in_features=96, out_features=128, bias=True)\n",
       "    (activation): PReLU(num_parameters=1)\n",
       "  )\n",
       "  (ffp): FFP(\n",
       "    (shared_backbone): Sequential(\n",
       "      (0): Conv2d(128, 128, kernel_size=(3, 1), stride=(1, 1), padding=(1, 0))\n",
       "      (1): PReLU(num_parameters=1)\n",
       "      (2): Conv2d(128, 128, kernel_size=(3, 1), stride=(1, 1), padding=(1, 0))\n",
       "      (3): PReLU(num_parameters=1)\n",
       "      (4): Conv2d(128, 128, kernel_size=(3, 1), stride=(1, 1), padding=(1, 0))\n",
       "      (5): PReLU(num_parameters=1)\n",
       "      (6): Conv2d(128, 128, kernel_size=(3, 1), stride=(1, 1), padding=(1, 0))\n",
       "      (7): PReLU(num_parameters=1)\n",
       "    )\n",
       "    (activation): PReLU(num_parameters=1)\n",
       "    (high_out): Conv2d(128, 2, kernel_size=(1, 1), stride=(1, 1))\n",
       "    (future_high_out): Conv2d(128, 2, kernel_size=(4, 1), stride=(1, 1))\n",
       "    (low_out): Conv2d(128, 2, kernel_size=(1, 1), stride=(1, 1))\n",
       "    (future_low_out): Conv2d(128, 2, kernel_size=(4, 1), stride=(1, 1))\n",
       "  )\n",
       "  (oa): OA()\n",
       "  (loss_fn): MSELoss()\n",
       ")"
      ]
     },
     "execution_count": 6,
     "metadata": {},
     "output_type": "execute_result"
    }
   ],
   "execution_count": 6
  },
  {
   "metadata": {
    "ExecuteTime": {
     "end_time": "2025-06-11T12:14:49.095640Z",
     "start_time": "2025-06-11T11:51:14.167570Z"
    }
   },
   "cell_type": "code",
   "source": [
    "anomaly_scores = []\n",
    "for batch in tqdm(test_set, desc=f\"Predicting {test_set_base}\"):\n",
    "    batch = {\n",
    "        k: v.to(DEVICE) if torch.is_tensor(v) else v\n",
    "        for k, v in batch.items()\n",
    "    }\n",
    "    with torch.no_grad():\n",
    "        score = model.predict(batch)\n",
    "    score = score.detach().cpu().numpy()\n",
    "    anomaly_scores += list(score)"
   ],
   "id": "b35b84149165fe49",
   "outputs": [
    {
     "data": {
      "text/plain": [
       "Predicting UCSD_Anomaly_Dataset.v1p2/UCSDped1/Test/:   0%|          | 0/110 [00:00<?, ?it/s]"
      ],
      "application/vnd.jupyter.widget-view+json": {
       "version_major": 2,
       "version_minor": 0,
       "model_id": "fb58b1a3ef794aadace3040051c37b2d"
      }
     },
     "metadata": {},
     "output_type": "display_data"
    }
   ],
   "execution_count": 7
  },
  {
   "metadata": {},
   "cell_type": "markdown",
   "source": "## Index predicted frames",
   "id": "eaadcbc598732be8"
  },
  {
   "metadata": {
    "ExecuteTime": {
     "end_time": "2025-06-11T12:14:50.448656Z",
     "start_time": "2025-06-11T12:14:50.424865Z"
    }
   },
   "cell_type": "code",
   "source": [
    "frame_numbers = [\n",
    "    [int(frame_path.split('/')[-1].split('.')[0]) for frame_path in sample][-1]\n",
    "    for sample in test_set.dataset.samples\n",
    "]\n",
    "\n",
    "frames_per_video = []\n",
    "video_frames = []\n",
    "for i, frame_idx in enumerate(frame_numbers[:-1]):\n",
    "    video_frames.append(frame_idx)\n",
    "    next_frame_idx = frame_numbers[i+1]\n",
    "    if frame_idx > next_frame_idx:\n",
    "        frames_per_video.append(video_frames)\n",
    "        video_frames = []\n",
    "# Add last frame index and last video indices\n",
    "video_frames.append(next_frame_idx)\n",
    "frames_per_video.append(video_frames)"
   ],
   "id": "b4a12045c2cfed97",
   "outputs": [],
   "execution_count": 8
  },
  {
   "metadata": {},
   "cell_type": "markdown",
   "source": "## Match labels with predictions",
   "id": "b7736947f5fca449"
  },
  {
   "metadata": {
    "ExecuteTime": {
     "end_time": "2025-06-11T12:14:51.502936Z",
     "start_time": "2025-06-11T12:14:51.497302Z"
    }
   },
   "cell_type": "code",
   "source": [
    "extracted_labels = [\n",
    "    labels[i, np.array(frames) - 1]  # Video frames are 1-index\n",
    "    for i, frames in enumerate(frames_per_video)\n",
    "]"
   ],
   "id": "7628e770903acddc",
   "outputs": [],
   "execution_count": 9
  },
  {
   "metadata": {},
   "cell_type": "markdown",
   "source": "## Normalize predictions",
   "id": "8d5407c1d926caf5"
  },
  {
   "metadata": {
    "ExecuteTime": {
     "end_time": "2025-06-11T12:14:52.621039Z",
     "start_time": "2025-06-11T12:14:52.617546Z"
    }
   },
   "cell_type": "code",
   "source": [
    "def normalize(scores, scaler=MinMaxScaler):\n",
    "    scores_arr = np.array(scores)\n",
    "    scores_arr = scaler().fit_transform(scores_arr[..., np.newaxis])\n",
    "    return scores_arr / np.amax(scores_arr)"
   ],
   "id": "ab1004cd7192ea25",
   "outputs": [],
   "execution_count": 10
  },
  {
   "metadata": {
    "ExecuteTime": {
     "end_time": "2025-06-11T12:14:53.717865Z",
     "start_time": "2025-06-11T12:14:53.679631Z"
    }
   },
   "cell_type": "code",
   "source": [
    "normalized_scores = []\n",
    "processed_frames = 0\n",
    "for video_labels in extracted_labels:\n",
    "    new_frames = len(video_labels)\n",
    "    if processed_frames > len(anomaly_scores):\n",
    "        break\n",
    "    scores = normalize(anomaly_scores[processed_frames: processed_frames + new_frames])\n",
    "    normalized_scores.append(scores)\n",
    "    processed_frames += new_frames"
   ],
   "id": "22bd12afaf7e616",
   "outputs": [],
   "execution_count": 11
  },
  {
   "metadata": {
    "ExecuteTime": {
     "end_time": "2025-06-11T12:14:54.771983Z",
     "start_time": "2025-06-11T12:14:54.767365Z"
    }
   },
   "cell_type": "code",
   "source": [
    "def reduce_to_regions(labels, predictions):\n",
    "    labels = np.array(labels)\n",
    "    predictions = np.array(predictions)\n",
    "    reduced_labels = []\n",
    "    reduced_preds = []\n",
    "    start = 0\n",
    "    while start < len(labels):\n",
    "        # Find start of next region (either label or prediction changes)\n",
    "        end = start + 1\n",
    "        while end < len(labels) and labels[end] == labels[start]:\n",
    "            end += 1\n",
    "        # Reduce current region\n",
    "        region_label = labels[start]\n",
    "        region_max_pred = predictions[start:end].max()\n",
    "        reduced_labels.append(region_label)\n",
    "        reduced_preds.append(region_max_pred)\n",
    "        start = end\n",
    "    return np.array(reduced_labels), np.array(reduced_preds)"
   ],
   "id": "a6c3c03e48b54cad",
   "outputs": [],
   "execution_count": 12
  },
  {
   "metadata": {
    "ExecuteTime": {
     "end_time": "2025-06-11T12:14:55.851038Z",
     "start_time": "2025-06-11T12:14:55.845465Z"
    }
   },
   "cell_type": "code",
   "source": [
    "reduced_labels, reduced_preds = [], []\n",
    "for i in range(len(extracted_labels)):\n",
    "    y_true, y_pred = reduce_to_regions(extracted_labels[i], normalized_scores[i])\n",
    "    reduced_labels.append(y_true)\n",
    "    reduced_preds.append(y_pred)"
   ],
   "id": "46951bfd0e7e7fe9",
   "outputs": [],
   "execution_count": 13
  },
  {
   "metadata": {},
   "cell_type": "markdown",
   "source": "## Visualize",
   "id": "8d62f62ad0ec4547"
  },
  {
   "metadata": {
    "ExecuteTime": {
     "end_time": "2025-06-11T12:14:57.305241Z",
     "start_time": "2025-06-11T12:14:56.932899Z"
    }
   },
   "cell_type": "code",
   "source": [
    "i = 4\n",
    "window_size = 50\n",
    "polynomial_order = 3\n",
    "scores_curve = savgol_filter(normalized_scores[i][..., 0], window_size, polynomial_order)\n",
    "anomaly_score_figure = plot_anomaly_scores(extracted_labels[i], scores_curve)"
   ],
   "id": "17d5fbd19f1e8a2f",
   "outputs": [
    {
     "data": {
      "text/plain": [
       "<Figure size 1500x400 with 1 Axes>"
      ],
      "image/png": "[encoded data removed]"
     },
     "metadata": {},
     "output_type": "display_data"
    }
   ],
   "execution_count": 14
  },
  {
   "metadata": {
    "ExecuteTime": {
     "end_time": "2025-06-11T12:14:58.464538Z",
     "start_time": "2025-06-11T12:14:58.420210Z"
    }
   },
   "cell_type": "code",
   "source": "roc_curve_fig, roc_auc = plot_roc_curve(np.concatenate(reduced_labels), np.concatenate(reduced_preds))",
   "id": "a5949506abb04dec",
   "outputs": [
    {
     "data": {
      "text/plain": [
       "<Figure size 500x500 with 1 Axes>"
      ],
      "image/png": "[encoded data removed]"
     },
     "metadata": {},
     "output_type": "display_data"
    }
   ],
   "execution_count": 15
  },
  {
   "metadata": {},
   "cell_type": "markdown",
   "source": "## Log metrics",
   "id": "283bc0fa1d03f410"
  },
  {
   "metadata": {
    "ExecuteTime": {
     "end_time": "2025-06-11T12:14:59.751483Z",
     "start_time": "2025-06-11T12:14:59.546087Z"
    }
   },
   "cell_type": "code",
   "source": [
    "client = MlflowClient()\n",
    "\n",
    "experiment_name = \"HSTGCNN_UCSD_Ped1\"\n",
    "run_id = \"4a8bdc6e624e4cb09ccce8bdd4991832\"\n",
    "\n",
    "mlflow.set_experiment(experiment_name)"
   ],
   "id": "38530e2a149c878d",
   "outputs": [
    {
     "data": {
      "text/plain": [
       "<Experiment: artifact_location='file:///Users/oleksandr/Documents/Studies/put-ai/MSc/thesis/GBADiS/mlruns/935558793063859619', creation_time=1748774180522, experiment_id='935558793063859619', last_update_time=1748774180522, lifecycle_stage='active', name='HSTGCNN_UCSD_Ped1', tags={}>"
      ]
     },
     "execution_count": 16,
     "metadata": {},
     "output_type": "execute_result"
    }
   ],
   "execution_count": 16
  },
  {
   "metadata": {
    "ExecuteTime": {
     "end_time": "2025-06-11T12:15:00.991613Z",
     "start_time": "2025-06-11T12:15:00.850301Z"
    }
   },
   "cell_type": "code",
   "source": "client.log_figure(run_id, anomaly_score_figure, \"figures/anomaly_score_graph.png\")",
   "id": "2af60a04bd63fbae",
   "outputs": [],
   "execution_count": 17
  },
  {
   "metadata": {
    "ExecuteTime": {
     "end_time": "2025-06-11T12:15:02.101066Z",
     "start_time": "2025-06-11T12:15:02.082477Z"
    }
   },
   "cell_type": "code",
   "source": "client.log_figure(run_id, roc_curve_fig, \"figures/roc_auc.png\")",
   "id": "75598220eebd3403",
   "outputs": [],
   "execution_count": 18
  },
  {
   "metadata": {
    "ExecuteTime": {
     "end_time": "2025-06-11T12:15:03.214651Z",
     "start_time": "2025-06-11T12:15:03.192839Z"
    }
   },
   "cell_type": "code",
   "source": "client.log_metric(run_id, \"roc_auc\", roc_auc)",
   "id": "387eefb77716125e",
   "outputs": [],
   "execution_count": 19
  }
 ],
 "metadata": {
  "kernelspec": {
   "display_name": "Python 3",
   "language": "python",
   "name": "python3"
  },
  "language_info": {
   "codemirror_mode": {
    "name": "ipython",
    "version": 2
   },
   "file_extension": ".py",
   "mimetype": "text/x-python",
   "name": "python",
   "nbconvert_exporter": "python",
   "pygments_lexer": "ipython2",
   "version": "2.7.6"
  }
 },
 "nbformat": 4,
 "nbformat_minor": 5
}
